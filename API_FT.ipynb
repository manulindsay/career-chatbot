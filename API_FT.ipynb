{
 "cells": [
  {
   "cell_type": "markdown",
   "id": "9617aa8d-2db1-4600-90b3-03a7bc38700a",
   "metadata": {},
   "source": [
    "## TOKEN POUR AUTHENTIFICATION A L'API FRANCE TRAVAIL"
   ]
  }
 ],
 "metadata": {
  "kernelspec": {
   "display_name": "capstone_bot(ipykernel)",
   "language": "python",
   "name": "capstone_bot"
  },
  "language_info": {
   "codemirror_mode": {
    "name": "ipython",
    "version": 3
   },
   "file_extension": ".py",
   "mimetype": "text/x-python",
   "name": "python",
   "nbconvert_exporter": "python",
   "pygments_lexer": "ipython3",
   "version": "3.12.9"
  }
 },
 "nbformat": 4,
 "nbformat_minor": 5
}
