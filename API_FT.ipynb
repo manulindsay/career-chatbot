{
 "cells": [
  {
   "cell_type": "markdown",
   "id": "9617aa8d-2db1-4600-90b3-03a7bc38700a",
   "metadata": {},
   "source": [
    "## Métiers en fonction d'un calcul de similarité entre les compétences d'un utilisateur et ceux de ce métier"
   ]
  },
  {
   "cell_type": "code",
   "execution_count": null,
   "id": "2e8c3a93-d1b3-4463-b470-fcaa892da637",
   "metadata": {},
   "outputs": [],
   "source": [
    "from sentence_transformers import SentenceTransformer, util\n",
    "\n",
    "# Charger le modèle CamemBERT\n",
    "model = SentenceTransformer(\"dangvantuan/sentence-camembert-base\")\n",
    "\n",
    "# Exemple de comparaison\n",
    "competences_user = \"Python Machine Learning analyse de données\"\n",
    "competences_metier = \"Analyse statistique Intelligence Artificielle Big Data\"\n",
    "\n",
    "# Encodage\n",
    "embedding_user = model.encode(competences_user, convert_to_tensor=True)\n",
    "embedding_metier = model.encode(competences_metier, convert_to_tensor=True)\n",
    "\n",
    "# Calcul de la similarité\n",
    "similarite = util.cos_sim(embedding_user, embedding_metier).item()\n",
    "print(f\"Similarité : {similarite:.2f}\")"
   ]
  },
  {
   "cell_type": "code",
   "execution_count": null,
   "id": "835e9482-b644-4fa8-a42a-e3fd539f19b0",
   "metadata": {},
   "outputs": [],
   "source": []
  }
 ],
 "metadata": {
  "kernelspec": {
   "display_name": "ai_capstone(Python)",
   "language": "python",
   "name": "ai_capstone"
  },
  "language_info": {
   "codemirror_mode": {
    "name": "ipython",
    "version": 3
   },
   "file_extension": ".py",
   "mimetype": "text/x-python",
   "name": "python",
   "nbconvert_exporter": "python",
   "pygments_lexer": "ipython3",
   "version": "3.12.9"
  }
 },
 "nbformat": 4,
 "nbformat_minor": 5
}
